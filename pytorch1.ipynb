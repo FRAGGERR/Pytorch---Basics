{
 "cells": [
  {
   "cell_type": "code",
   "execution_count": 30,
   "id": "61acd0f0-1a4e-4069-9320-726872408c53",
   "metadata": {
    "editable": true,
    "slideshow": {
     "slide_type": ""
    },
    "tags": []
   },
   "outputs": [],
   "source": [
    "import torch\n",
    "import torch.nn as nn\n",
    "import numpy as np\n",
    "import matplotlib.pyplot as plt\n",
    "import time"
   ]
  },
  {
   "cell_type": "markdown",
   "id": "bfe9d550-27ad-478f-afab-81eb0d6b0c21",
   "metadata": {},
   "source": [
    "`pytorch` is a python package which enables users to train state-of-the-art machine learning/deep learning models. In order to efficiently use `pytorch`, one needs to have a firm understanding of the basic building blocks of pytorch: the `torch.tensor` object. In many ways, it's similar to a numpy array"
   ]
  },
  {
   "cell_type": "markdown",
   "id": "6820ab40-dfb6-4c7b-8c76-ca830e00da77",
   "metadata": {},
   "source": [
    "# Numpy vs. Torch"
   ]
  },
  {
   "cell_type": "markdown",
   "id": "a80f402f-edb8-4b20-95e7-95bae3714f34",
   "metadata": {},
   "source": [
    "Numpy **`array`s** and pytorch **`tensor`s** can be created in the same way:"
   ]
  },
  {
   "cell_type": "code",
   "execution_count": 4,
   "id": "f46cd458-bbb9-44a8-a672-9c12bb308283",
   "metadata": {},
   "outputs": [],
   "source": [
    "n = np.linspace(0,1,5)\n",
    "t = torch.linspace(0,1,5)"
   ]
  },
  {
   "cell_type": "markdown",
   "id": "f2ba4c71-663d-4791-be93-2a2fb1bccf0d",
   "metadata": {},
   "source": [
    "They can be resized in similar ways"
   ]
  },
  {
   "cell_type": "code",
   "execution_count": 31,
   "id": "91f66aa7-a237-4151-b98e-bb08d9a27ba1",
   "metadata": {},
   "outputs": [],
   "source": [
    "n = np.arange(48).reshape(3,4,4)\n",
    "t = torch.arange(48).reshape(3,4,4)"
   ]
  },
  {
   "cell_type": "markdown",
   "id": "3739c336-9d1e-47f7-b0b8-99e37cfefdf3",
   "metadata": {},
   "source": [
    "Most importantly, they have the same broadcasting rules. In order to use `pytorch` (and even `numpy` for that matter) most efficiently, one needs to have a very strong grasp on the **broadcasting rules**.\n",
    "\n",
    "# General Broadcasting Rules\n",
    "\n",
    "When operating on two arrays, NumPy compares their shapes element-wise. It starts with the trailing (i.e. rightmost) dimensions and works its way left. Two dimensions are compatible when\n",
    "\n",
    "1. they are equal, or\n",
    "2. one of them is 1\n",
    "\n",
    "**Example**: The following are compatible\n",
    "\n",
    "Shape 1: (1,6,4,1,7,2)\n",
    "\n",
    "Shape 2: (5,6,1,3,1,2)"
   ]
  },
  {
   "cell_type": "code",
   "execution_count": 32,
   "id": "dcfe77a3-20b8-4e90-90bd-283fb433ba26",
   "metadata": {},
   "outputs": [],
   "source": [
    "a = np.ones((6,5))\n",
    "b = np.arange(5).reshape((1,5))"
   ]
  },
  {
   "cell_type": "code",
   "execution_count": 22,
   "id": "b9b07e45-40bd-4ca0-a897-ed2d8ed92533",
   "metadata": {},
   "outputs": [
    {
     "data": {
      "text/plain": [
       "array([[1., 2., 3., 4., 5.],\n",
       "       [1., 2., 3., 4., 5.],\n",
       "       [1., 2., 3., 4., 5.],\n",
       "       [1., 2., 3., 4., 5.],\n",
       "       [1., 2., 3., 4., 5.],\n",
       "       [1., 2., 3., 4., 5.]])"
      ]
     },
     "execution_count": 22,
     "metadata": {},
     "output_type": "execute_result"
    }
   ],
   "source": [
    "a+b"
   ]
  },
  {
   "cell_type": "code",
   "execution_count": 39,
   "id": "7dca407e-2aa3-49a5-be7a-cc311702d08e",
   "metadata": {},
   "outputs": [
    {
     "data": {
      "text/plain": [
       "tensor([[1., 2., 3., 4., 5.],\n",
       "        [1., 2., 3., 4., 5.],\n",
       "        [1., 2., 3., 4., 5.],\n",
       "        [1., 2., 3., 4., 5.],\n",
       "        [1., 2., 3., 4., 5.],\n",
       "        [1., 2., 3., 4., 5.]])"
      ]
     },
     "execution_count": 39,
     "metadata": {},
     "output_type": "execute_result"
    }
   ],
   "source": [
    "a = torch.ones((6,5))\n",
    "b = torch.arange(5).reshape((1,5))\n",
    "\n",
    "a+b"
   ]
  },
  {
   "cell_type": "markdown",
   "id": "97c3987a-2600-4de1-8df2-c0428026c26d",
   "metadata": {},
   "source": [
    "The arrays/tensors don't need to have the same number of dimenions. If one of the arrays/tensors has less dimensions than the other\n",
    "\n",
    "**Example**: Scaling each other the color channels of an image by a different amount:\n",
    "\n",
    "<pre><span></span><span class=\"n\">Image</span>  <span class=\"p\">(</span><span class=\"mi\">3</span><span class=\"n\">d</span> <span class=\"n\">array</span><span class=\"p\">):</span> <span class=\"mi\">256</span> <span class=\"n\">x</span> <span class=\"mi\">256</span> <span class=\"n\">x</span> <span class=\"mi\">3</span>\n",
    "<span class=\"n\">Scale</span>  <span class=\"p\">(</span><span class=\"mi\">1</span><span class=\"n\">d</span> <span class=\"n\">array</span><span class=\"p\">):</span>             <span class=\"mi\">3</span>\n",
    "<span class=\"n\">Result</span> <span class=\"p\">(</span><span class=\"mi\">3</span><span class=\"n\">d</span> <span class=\"n\">array</span><span class=\"p\">):</span> <span class=\"mi\">256</span> <span class=\"n\">x</span> <span class=\"mi\">256</span> <span class=\"n\">x</span> <span class=\"mi\">3</span>\n",
    "</pre>\n"
   ]
  },
  {
   "cell_type": "code",
   "execution_count": 30,
   "id": "ae4d7516-f207-4c19-bea3-5463b0bcc60c",
   "metadata": {},
   "outputs": [],
   "source": [
    "Image = torch.randn((256,256,3))\n",
    "Scale = torch.tensor([0.5,1.5,1])"
   ]
  },
  {
   "cell_type": "code",
   "execution_count": 40,
   "id": "28b932d4-81e6-47c9-8412-872ace488c16",
   "metadata": {},
   "outputs": [
    {
     "data": {
      "text/plain": [
       "tensor([[[ 0.9318, -0.3716, -0.5976],\n",
       "         [ 0.8838, -0.8175, -0.5960],\n",
       "         [-1.5311,  0.3565, -1.4970],\n",
       "         ...,\n",
       "         [-1.3137,  0.1314,  0.6707],\n",
       "         [-0.2624,  0.6475,  1.2596],\n",
       "         [-2.1806, -1.7484, -1.4351]],\n",
       "\n",
       "        [[ 0.7856,  0.1912, -0.7670],\n",
       "         [-0.5385,  1.7130,  1.3173],\n",
       "         [-0.2777,  0.3929,  0.4974],\n",
       "         ...,\n",
       "         [ 0.9238,  1.9826, -0.6906],\n",
       "         [ 1.0284, -1.6141,  0.6101],\n",
       "         [-0.9671,  0.2353,  0.5324]],\n",
       "\n",
       "        [[ 1.6070, -0.6342, -1.1060],\n",
       "         [-0.7240,  0.9120, -1.1889],\n",
       "         [ 1.0342,  0.1021,  0.3729],\n",
       "         ...,\n",
       "         [-0.5777, -2.8176,  0.1540],\n",
       "         [ 0.3749, -2.4375,  0.8422],\n",
       "         [-0.1697,  0.3952,  1.1553]],\n",
       "\n",
       "        ...,\n",
       "\n",
       "        [[ 0.5274,  0.2262,  0.9097],\n",
       "         [ 0.5285, -0.1686, -0.0903],\n",
       "         [-1.6897,  0.6690, -0.1401],\n",
       "         ...,\n",
       "         [ 1.5116,  0.8893, -1.7505],\n",
       "         [ 1.0048,  0.5815,  0.6703],\n",
       "         [ 1.4955, -0.2158,  0.6689]],\n",
       "\n",
       "        [[-0.5946, -1.1337, -0.4060],\n",
       "         [ 1.2906,  0.8961,  0.6750],\n",
       "         [-1.6265, -1.3871,  0.3392],\n",
       "         ...,\n",
       "         [ 1.4068, -0.7625,  0.3065],\n",
       "         [ 0.2017, -2.5808, -1.3584],\n",
       "         [-1.8505,  0.4791, -0.9689]],\n",
       "\n",
       "        [[ 1.1912, -0.9768,  0.0863],\n",
       "         [ 0.1299,  0.6191,  1.7821],\n",
       "         [ 0.9700,  0.5117, -0.3831],\n",
       "         ...,\n",
       "         [ 0.5715,  0.3215,  0.0273],\n",
       "         [-2.4306,  0.0510, -0.4826],\n",
       "         [ 0.3979,  0.2540,  0.4398]]])"
      ]
     },
     "execution_count": 40,
     "metadata": {},
     "output_type": "execute_result"
    }
   ],
   "source": [
    "Image"
   ]
  },
  {
   "cell_type": "code",
   "execution_count": 42,
   "id": "2cf7a995-6ab8-475e-a42d-737f1ce3deec",
   "metadata": {},
   "outputs": [
    {
     "data": {
      "text/plain": [
       "tensor([[[ 0.4659, -0.5574, -0.5976],\n",
       "         [ 0.4419, -1.2263, -0.5960],\n",
       "         [-0.7655,  0.5347, -1.4970],\n",
       "         ...,\n",
       "         [-0.6569,  0.1971,  0.6707],\n",
       "         [-0.1312,  0.9713,  1.2596],\n",
       "         [-1.0903, -2.6226, -1.4351]],\n",
       "\n",
       "        [[ 0.3928,  0.2869, -0.7670],\n",
       "         [-0.2693,  2.5694,  1.3173],\n",
       "         [-0.1388,  0.5894,  0.4974],\n",
       "         ...,\n",
       "         [ 0.4619,  2.9739, -0.6906],\n",
       "         [ 0.5142, -2.4211,  0.6101],\n",
       "         [-0.4836,  0.3530,  0.5324]],\n",
       "\n",
       "        [[ 0.8035, -0.9514, -1.1060],\n",
       "         [-0.3620,  1.3680, -1.1889],\n",
       "         [ 0.5171,  0.1532,  0.3729],\n",
       "         ...,\n",
       "         [-0.2888, -4.2265,  0.1540],\n",
       "         [ 0.1875, -3.6563,  0.8422],\n",
       "         [-0.0848,  0.5928,  1.1553]],\n",
       "\n",
       "        ...,\n",
       "\n",
       "        [[ 0.2637,  0.3393,  0.9097],\n",
       "         [ 0.2643, -0.2529, -0.0903],\n",
       "         [-0.8449,  1.0035, -0.1401],\n",
       "         ...,\n",
       "         [ 0.7558,  1.3339, -1.7505],\n",
       "         [ 0.5024,  0.8723,  0.6703],\n",
       "         [ 0.7478, -0.3237,  0.6689]],\n",
       "\n",
       "        [[-0.2973, -1.7006, -0.4060],\n",
       "         [ 0.6453,  1.3441,  0.6750],\n",
       "         [-0.8133, -2.0807,  0.3392],\n",
       "         ...,\n",
       "         [ 0.7034, -1.1438,  0.3065],\n",
       "         [ 0.1008, -3.8712, -1.3584],\n",
       "         [-0.9253,  0.7186, -0.9689]],\n",
       "\n",
       "        [[ 0.5956, -1.4652,  0.0863],\n",
       "         [ 0.0650,  0.9287,  1.7821],\n",
       "         [ 0.4850,  0.7675, -0.3831],\n",
       "         ...,\n",
       "         [ 0.2857,  0.4823,  0.0273],\n",
       "         [-1.2153,  0.0764, -0.4826],\n",
       "         [ 0.1990,  0.3810,  0.4398]]])"
      ]
     },
     "execution_count": 42,
     "metadata": {},
     "output_type": "execute_result"
    }
   ],
   "source": [
    "Result = Image*Scale\n",
    "Result"
   ]
  },
  {
   "cell_type": "markdown",
   "id": "5b07adba-f7af-4ea5-a88e-93b790b1a2bc",
   "metadata": {},
   "source": [
    "**Example**: One has an array of 2 images and wants to scale the color channels of each image by a slightly different amount:\n",
    "\n",
    "<pre><span></span><span class=\"n\">Images</span>  <span class=\"p\">(</span><span class=\"mi\">4</span><span class=\"n\">d</span> <span class=\"n\">array</span><span class=\"p\">):</span> <span class=\"mi\">2</span> <span class=\"n\">x</span> <span class=\"mi\">256</span> <span class=\"n\">x</span> <span class=\"mi\">256</span> <span class=\"n\">x</span> <span class=\"mi\">3</span>\n",
    "<span class=\"n\">Scales</span>  <span class=\"p\">(</span><span class=\"mi\">4</span><span class=\"n\">d</span> <span class=\"n\">array</span><span class=\"p\">):</span> <span class=\"mi\">2</span> <span class=\"n\">x</span> <span class=\"mi\">1</span> <span class=\"n\">x</span> <span class=\"mi\">1</span> <span class=\"n\">x</span> <span class=\"mi\">3</span>\n",
    "<span class=\"n\">Results</span>  <span class=\"p\">(</span><span class=\"mi\">4</span><span class=\"n\">d</span> <span class=\"n\">array</span><span class=\"p\">):</span> <span class=\"mi\">2</span> <span class=\"n\">x</span> <span class=\"mi\">256</span> <span class=\"n\">x</span> <span class=\"mi\">256</span> <span class=\"n\">x</span> <span class=\"mi\">3</span>\n",
    "</pre>"
   ]
  },
  {
   "cell_type": "code",
   "execution_count": 35,
   "id": "850677c7-4238-4cdd-a05c-815781c56e0f",
   "metadata": {},
   "outputs": [],
   "source": [
    "Images = torch.randn((2,256,256,3))\n",
    "Scales = torch.tensor([0.5,1.5,1,1.5,1,0.5]).reshape((2,1,1,3))"
   ]
  },
  {
   "cell_type": "markdown",
   "id": "dd2d91c5-75a2-46cc-9003-9a6004daacc2",
   "metadata": {},
   "source": [
    "# Operations Across Dimensions"
   ]
  },
  {
   "cell_type": "markdown",
   "id": "4396c9b2-d118-412d-911d-89352db54fcb",
   "metadata": {},
   "source": [
    "This is so fundamental for pytorch. Obviously simple operations can be done one 1 dimensional tensors:"
   ]
  },
  {
   "cell_type": "code",
   "execution_count": 38,
   "id": "78f2b3a7-717f-41a8-aa27-8e46ca63cc9a",
   "metadata": {},
   "outputs": [
    {
     "data": {
      "text/plain": [
       "(tensor(2.1250), tensor(1.6520), tensor(4.), tensor(0.5000))"
      ]
     },
     "execution_count": 38,
     "metadata": {},
     "output_type": "execute_result"
    }
   ],
   "source": [
    "t = torch.tensor([0.5,1,3,4])\n",
    "torch.mean(t), torch.std(t), torch.max(t), torch.min(t)"
   ]
  },
  {
   "cell_type": "markdown",
   "id": "180e72c4-8d53-4c6c-9d94-21eacd5e5a6b",
   "metadata": {},
   "source": [
    "But suppose we have a 2d tensor, for example, and want to compute the mean value of each columns:\n",
    "* Note: taking the mean **of** each column means taking the mean **across** the rows (which are the first dimension)"
   ]
  },
  {
   "cell_type": "code",
   "execution_count": 39,
   "id": "a494d41b-8239-461a-ab31-9cdfcf9f7c1a",
   "metadata": {},
   "outputs": [],
   "source": [
    "t = torch.arange(20, dtype=float).reshape(5,4)"
   ]
  },
  {
   "cell_type": "code",
   "execution_count": 43,
   "id": "8676b94b-91e4-4b2d-94fb-ea6ef5ebc914",
   "metadata": {},
   "outputs": [
    {
     "data": {
      "text/plain": [
       "tensor([ 8.,  9., 10., 11.], dtype=torch.float64)"
      ]
     },
     "execution_count": 43,
     "metadata": {},
     "output_type": "execute_result"
    }
   ],
   "source": [
    "t = torch.arange(20, dtype=float).reshape(5,4)\n",
    "torch.mean(t, axis=0)"
   ]
  },
  {
   "cell_type": "markdown",
   "id": "3101e33a-0f61-4339-a034-158244473ec0",
   "metadata": {},
   "source": [
    "This can be done for higher dimensionality arrays as well"
   ]
  },
  {
   "cell_type": "code",
   "execution_count": 44,
   "id": "db234a3b-6538-47b6-94fe-b12d04b714e9",
   "metadata": {},
   "outputs": [],
   "source": [
    "t = torch.randn(5,256,256,3)"
   ]
  },
  {
   "cell_type": "markdown",
   "id": "f44ac080-bbce-4a71-bbd5-1d0dce136b68",
   "metadata": {},
   "source": [
    "Take the mean across the batch (size 5)"
   ]
  },
  {
   "cell_type": "code",
   "execution_count": 47,
   "id": "810a750f-00db-453e-92c9-83449c6c762c",
   "metadata": {},
   "outputs": [
    {
     "data": {
      "text/plain": [
       "torch.Size([256, 256, 3])"
      ]
     },
     "execution_count": 47,
     "metadata": {},
     "output_type": "execute_result"
    }
   ],
   "source": [
    "torch.mean(t,axis=0).shape"
   ]
  },
  {
   "cell_type": "markdown",
   "id": "d3e6d067-9469-4875-befa-ada79ca8f6b7",
   "metadata": {},
   "source": [
    "Take the mean across the color channels:"
   ]
  },
  {
   "cell_type": "code",
   "execution_count": 49,
   "id": "91ab24be-a8d0-4fc0-a9a7-6d53ab9fb6a4",
   "metadata": {},
   "outputs": [
    {
     "data": {
      "text/plain": [
       "torch.Size([5, 256, 256])"
      ]
     },
     "execution_count": 49,
     "metadata": {},
     "output_type": "execute_result"
    }
   ],
   "source": [
    "torch.mean(t,axis=-1).shape"
   ]
  },
  {
   "cell_type": "markdown",
   "id": "e911073f-6a04-4e01-a9a4-16ebfe9c0073",
   "metadata": {},
   "source": [
    "Take only the maximum color channel values (and get the corresponding indices):\n",
    "* This is done all the time in image segmentation models (i.e. take an image, decide which pixels correspond to, say, a car)"
   ]
  },
  {
   "cell_type": "code",
   "execution_count": 50,
   "id": "32a40b2c-091e-4196-8e05-d849d04d9867",
   "metadata": {},
   "outputs": [],
   "source": [
    "values, indices = torch.max(t,axis=-1)"
   ]
  },
  {
   "cell_type": "markdown",
   "id": "501750f2-75ae-4c64-b472-4deb38fdfaff",
   "metadata": {},
   "source": [
    "# So Where Do Pytorch and Numpy Differ?"
   ]
  },
  {
   "cell_type": "markdown",
   "id": "d3e2d157-d8ff-4c6a-8ed5-64edb0b57471",
   "metadata": {},
   "source": [
    "**Pytorch** starts to really differ from **numpy** in terms of automatically computing gradients of operations\n",
    "\n",
    "$$y = \\sum_i x_i^3$$\n",
    "\n",
    "has a gradient\n",
    "\n",
    "$$\\frac{\\partial y}{\\partial x_i} = 3x_i^2$$"
   ]
  },
  {
   "cell_type": "code",
   "execution_count": 54,
   "id": "db724997-80bc-4309-8bb1-9f1b84c42f66",
   "metadata": {},
   "outputs": [],
   "source": [
    "x = torch.tensor([[5.,8.],[4.,6.]], requires_grad=True)"
   ]
  },
  {
   "cell_type": "code",
   "execution_count": 56,
   "id": "49edfec1-092f-4c04-a1c1-298bf1e861e7",
   "metadata": {},
   "outputs": [
    {
     "data": {
      "text/plain": [
       "tensor(917., grad_fn=<SumBackward0>)"
      ]
     },
     "execution_count": 56,
     "metadata": {},
     "output_type": "execute_result"
    }
   ],
   "source": [
    "x = torch.tensor([[5.,8.],[4.,6.]], requires_grad=True)\n",
    "y = x.pow(3).sum()\n",
    "y"
   ]
  },
  {
   "cell_type": "markdown",
   "id": "41e2768d-8820-4784-abf1-cea8cf4d6ec4",
   "metadata": {},
   "source": [
    "Compute the gradient:"
   ]
  },
  {
   "cell_type": "code",
   "execution_count": 57,
   "id": "85a51b1c-fb36-48c3-8364-5c6e292de13e",
   "metadata": {},
   "outputs": [
    {
     "data": {
      "text/plain": [
       "tensor([[ 75., 192.],\n",
       "        [ 48., 108.]])"
      ]
     },
     "execution_count": 57,
     "metadata": {},
     "output_type": "execute_result"
    }
   ],
   "source": [
    "y.backward() #compute the gradient\n",
    "x.grad #print the gradient (everything that has happened to x)"
   ]
  },
  {
   "cell_type": "markdown",
   "id": "a0491784-4586-4c40-90f2-cce718765fca",
   "metadata": {},
   "source": [
    "Double check using the analytical formula:"
   ]
  },
  {
   "cell_type": "code",
   "execution_count": 59,
   "id": "d84d76b4-c504-4dbe-94b3-3b846891c357",
   "metadata": {},
   "outputs": [
    {
     "data": {
      "text/plain": [
       "tensor([[ 75., 192.],\n",
       "        [ 48., 108.]], grad_fn=<MulBackward0>)"
      ]
     },
     "execution_count": 59,
     "metadata": {},
     "output_type": "execute_result"
    }
   ],
   "source": [
    "3*x**2"
   ]
  },
  {
   "cell_type": "markdown",
   "id": "86c57eaa-419f-4b92-974b-2a96918eab1f",
   "metadata": {},
   "source": [
    "The automatic computation of gradients is the backbone of training deep learning models. Unlike in the example above, most gradient computations don't have an analytical formula, so the automatic computation of gradients is essential. In general, if one has \n",
    "\n",
    "$$y = f(\\vec{x})$$\n",
    "\n",
    "Then pytorch can compute $\\partial y / \\partial x_i$. For each of element of the vector $\\vec{x}$. In the context of machine learning, $\\vec{x}$ contains all the weights (also known as parameters) of the neural network and $y$ is the **Loss Function** of the neural network."
   ]
  },
  {
   "cell_type": "markdown",
   "id": "03a3940a-2267-4d5c-b2ea-3daa1732ecaf",
   "metadata": {},
   "source": [
    "# Additional Benefits\n",
    "\n",
    "**In addition, any sort of large matrix multiplication problem is faster with torch tensors than it is with numpy arrays, especially if you're running on a GPU**"
   ]
  },
  {
   "cell_type": "markdown",
   "id": "c867df20-dceb-4903-bba9-d2641e01f501",
   "metadata": {},
   "source": [
    "Using torch: (with a CPU. With GPU, this is much much faster)"
   ]
  },
  {
   "cell_type": "code",
   "execution_count": 60,
   "id": "8d135ad0-ff23-49e6-8d93-1893d12f9e1b",
   "metadata": {},
   "outputs": [],
   "source": [
    "A = torch.randn((1000,1000))\n",
    "B = torch.randn((1000,1000))"
   ]
  },
  {
   "cell_type": "code",
   "execution_count": 45,
   "id": "62f4ccae-7e32-4c1f-88b2-86cf70774b55",
   "metadata": {},
   "outputs": [
    {
     "data": {
      "text/plain": [
       "array([[-1.75831859, -0.58934824,  0.4146291 , ...,  0.05482727,\n",
       "        -0.78583846, -0.33198588],\n",
       "       [ 1.30794172, -0.90719828, -0.14204531, ...,  0.21844022,\n",
       "         0.3797563 ,  0.27721515],\n",
       "       [-1.91994852,  0.1438443 , -1.77581713, ...,  0.44754118,\n",
       "         0.22336739,  0.19128819],\n",
       "       ...,\n",
       "       [-1.64513028,  1.85385891,  0.67102222, ..., -0.06235597,\n",
       "        -0.79929623, -0.79587797],\n",
       "       [ 0.81273173,  0.9730068 ,  0.75958886, ..., -1.54256536,\n",
       "        -0.14591093,  1.13167259],\n",
       "       [-0.09354288, -0.02287502,  0.04246416, ..., -1.2802419 ,\n",
       "        -0.05205243, -0.25469916]])"
      ]
     },
     "execution_count": 45,
     "metadata": {},
     "output_type": "execute_result"
    }
   ],
   "source": [
    "B"
   ]
  },
  {
   "cell_type": "markdown",
   "id": "60102ee0-fb21-4f73-b167-ebb3e1f3c4a9",
   "metadata": {},
   "source": [
    "#####  **torch.matmul(A,B)** ==> this line performs matrix multiplication on two tensors A and B using PyTorch's matmul function."
   ]
  },
  {
   "cell_type": "code",
   "execution_count": 61,
   "id": "2c534cfd-6157-4003-a7e2-2837c06e5f68",
   "metadata": {},
   "outputs": [
    {
     "name": "stdout",
     "output_type": "stream",
     "text": [
      "0.00980130000243662\n"
     ]
    }
   ],
   "source": [
    "t1 = time.perf_counter()\n",
    "torch.matmul(A,B)\n",
    "t2 = time.perf_counter()\n",
    "print(t2-t1)"
   ]
  },
  {
   "cell_type": "markdown",
   "id": "5c27819d-9310-46e1-b3d9-779903f19760",
   "metadata": {},
   "source": [
    "Using numpy: "
   ]
  },
  {
   "cell_type": "code",
   "execution_count": 62,
   "id": "3ad67a2d-e36b-4ffe-ab66-bc7af7ed7e0a",
   "metadata": {},
   "outputs": [],
   "source": [
    "A = np.random.randn(int(1e6)).reshape((1000,1000))\n",
    "B = np.random.randn(int(1e6)).reshape((1000,1000))"
   ]
  },
  {
   "cell_type": "code",
   "execution_count": 63,
   "id": "19db35ae-5bc9-4497-bb7e-fee1c36f8826",
   "metadata": {},
   "outputs": [
    {
     "name": "stdout",
     "output_type": "stream",
     "text": [
      "0.028782699999283068\n"
     ]
    }
   ],
   "source": [
    "t1 = time.perf_counter()\n",
    "A@B\n",
    "t2 = time.perf_counter()\n",
    "print(t2-t1)"
   ]
  },
  {
   "cell_type": "code",
   "execution_count": null,
   "id": "c03b8fa7-78f5-46c6-9508-d62283ef33e1",
   "metadata": {},
   "outputs": [],
   "source": []
  },
  {
   "cell_type": "code",
   "execution_count": null,
   "id": "304e6ec6-6cdd-4baf-98d9-f4efb52d97ba",
   "metadata": {},
   "outputs": [],
   "source": []
  }
 ],
 "metadata": {
  "kernelspec": {
   "display_name": "Python 3 (ipykernel)",
   "language": "python",
   "name": "python3"
  },
  "language_info": {
   "codemirror_mode": {
    "name": "ipython",
    "version": 3
   },
   "file_extension": ".py",
   "mimetype": "text/x-python",
   "name": "python",
   "nbconvert_exporter": "python",
   "pygments_lexer": "ipython3",
   "version": "3.10.14"
  }
 },
 "nbformat": 4,
 "nbformat_minor": 5
}
